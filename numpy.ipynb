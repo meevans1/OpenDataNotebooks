{
 "cells": [
  {
   "cell_type": "code",
   "execution_count": 1,
   "metadata": {
    "collapsed": false
   },
   "outputs": [
    {
     "name": "stdout",
     "output_type": "stream",
     "text": [
      "\u001b[33mDEPRECATION: Python 2.7 will reach the end of its life on January 1st, 2020. Please upgrade your Python as Python 2.7 won't be maintained after that date. A future version of pip will drop support for Python 2.7.\u001b[0m\n",
      "Requirement already up-to-date: pip in /home/student/.local/lib/python2.7/site-packages (19.0.3)\n",
      "\u001b[33mDEPRECATION: Python 2.7 will reach the end of its life on January 1st, 2020. Please upgrade your Python as Python 2.7 won't be maintained after that date. A future version of pip will drop support for Python 2.7.\u001b[0m\n",
      "Requirement already satisfied: root_numpy in /home/student/.local/lib/python2.7/site-packages (4.8.0)\n",
      "\u001b[33mDEPRECATION: Python 2.7 will reach the end of its life on January 1st, 2020. Please upgrade your Python as Python 2.7 won't be maintained after that date. A future version of pip will drop support for Python 2.7.\u001b[0m\n",
      "Requirement already satisfied: matplotlib in /home/student/.local/lib/python2.7/site-packages (2.2.4)\n",
      "Requirement already satisfied: cycler>=0.10 in /home/student/.local/lib/python2.7/site-packages (from matplotlib) (0.10.0)\n",
      "Requirement already satisfied: numpy>=1.7.1 in /usr/lib/python2.7/dist-packages (from matplotlib) (1.8.2)\n",
      "Requirement already satisfied: backports.functools-lru-cache in /home/student/.local/lib/python2.7/site-packages (from matplotlib) (1.5)\n",
      "Requirement already satisfied: subprocess32 in /home/student/.local/lib/python2.7/site-packages (from matplotlib) (3.5.3)\n",
      "Requirement already satisfied: kiwisolver>=1.0.1 in /home/student/.local/lib/python2.7/site-packages (from matplotlib) (1.0.1)\n",
      "Requirement already satisfied: pytz in /home/student/.local/lib/python2.7/site-packages (from matplotlib) (2019.1)\n",
      "Requirement already satisfied: six>=1.10 in /home/student/.local/lib/python2.7/site-packages (from matplotlib) (1.10.0)\n",
      "Requirement already satisfied: python-dateutil>=2.1 in /home/student/.local/lib/python2.7/site-packages (from matplotlib) (2.8.0)\n",
      "Requirement already satisfied: pyparsing!=2.0.4,!=2.1.2,!=2.1.6,>=2.0.1 in /home/student/.local/lib/python2.7/site-packages (from matplotlib) (2.4.0)\n",
      "Requirement already satisfied: setuptools in /home/student/.local/lib/python2.7/site-packages (from kiwisolver>=1.0.1->matplotlib) (28.6.1)\n"
     ]
    }
   ],
   "source": [
    "import sys\n",
    "!{sys.executable} -m pip install --upgrade --user pip\n",
    "!{sys.executable} -m pip install --user root_numpy\n",
    "!{sys.executable} -m pip install --user matplotlib"
   ]
  },
  {
   "cell_type": "code",
   "execution_count": 2,
   "metadata": {
    "collapsed": false
   },
   "outputs": [
    {
     "data": {
      "application/javascript": [
       "require(['codemirror/mode/clike/clike'], function(Clike) { console.log('ROOTaaS - C++ CodeMirror module loaded'); });"
      ]
     },
     "metadata": {},
     "output_type": "display_data"
    },
    {
     "data": {
      "application/javascript": [
       "IPython.CodeCell.config_defaults.highlight_modes['magic_text/x-c++src'] = {'reg':[/^%%cpp/]};"
      ]
     },
     "metadata": {},
     "output_type": "display_data"
    },
    {
     "name": "stdout",
     "output_type": "stream",
     "text": [
      "Welcome to ROOTaaS 6.06/08\n"
     ]
    }
   ],
   "source": [
    "from root_numpy import root2array"
   ]
  },
  {
   "cell_type": "code",
   "execution_count": 3,
   "metadata": {
    "collapsed": false
   },
   "outputs": [],
   "source": [
    "filename_tt = 'mc15_13TeV.410000.PwPyEG_P2012_ttbar_hdamp172p5_nonallhad.1fatjet1lep_raw.root'\n",
    "filename_Z = 'mc15_13TeV.364113.Sh_221_NNPDF30NNLO_Zmumu_MAXHTPTV1000_E_CMS.1fatjet1lep_raw.root'"
   ]
  },
  {
   "cell_type": "code",
   "execution_count": 4,
   "metadata": {
    "collapsed": false
   },
   "outputs": [
    {
     "name": "stderr",
     "output_type": "stream",
     "text": [
      "TClass::Init:0: RuntimeWarning: no dictionary for class ROOT::TIOFeatures is available\n"
     ]
    }
   ],
   "source": [
    "# Convert a TTree in a ROOT file into a NumPy structured array\n",
    "arr_tt = root2array(filename_tt, branches=['fatjet_n','fatjet_pt','fatjet_eta','fatjet_E','fatjet_m','fatjet_D2','fatjet_tau32'])\n",
    "arr_Z = root2array(filename_Z, branches=['fatjet_n','fatjet_pt','fatjet_eta','fatjet_E','fatjet_m','fatjet_D2','fatjet_tau32'])"
   ]
  },
  {
   "cell_type": "code",
   "execution_count": 5,
   "metadata": {
    "collapsed": false
   },
   "outputs": [],
   "source": [
    "# Rename the fields\n",
    "arr_tt.dtype.names = ('fatjet_n','fatjet_pt','fatjet_eta','fatjet_E','fatjet_m','fatjet_D2','fatjet_tau32')\n",
    "arr_Z.dtype.names = ('fatjet_n','fatjet_pt','fatjet_eta','fatjet_E','fatjet_m','fatjet_D2','fatjet_tau32')"
   ]
  },
  {
   "cell_type": "code",
   "execution_count": 6,
   "metadata": {
    "collapsed": false
   },
   "outputs": [],
   "source": [
    "import matplotlib.pyplot as plt"
   ]
  },
  {
   "cell_type": "code",
   "execution_count": null,
   "metadata": {
    "collapsed": false
   },
   "outputs": [],
   "source": [
    "plt.hist(arr_tt['fatjet_n'], color='g', histtype='step', label='tt')\n",
    "plt.hist(arr_Z['fatjet_n'], color='b', histtype='step', label='Z')\n",
    "plt.suptitle('Number of fatjets in different processes')\n",
    "plt.xlabel('Number of fatjets')\n",
    "plt.ylabel('Events')\n",
    "plt.legend()\n",
    "plt.show()"
   ]
  },
  {
   "cell_type": "code",
   "execution_count": null,
   "metadata": {
    "collapsed": false
   },
   "outputs": [],
   "source": [
    "import numpy as np\n",
    "ROC = np.zeros((5,2))\n",
    "for jThreshold in range(0,5):\n",
    "    threshold = jThreshold\n",
    "    tt_Pos = np.array(np.where(arr_tt['fatjet_n']>threshold)).size*100/arr_tt.size\n",
    "    Z_Pos = np.array(np.where(arr_Z['fatjet_n']>threshold)).size*100/arr_Z.size\n",
    "    ROC[jThreshold,:] = np.array((tt_Pos, Z_Pos))\n",
    "plt.plot(ROC[:,0], ROC[:,1])\n",
    "plt.suptitle('Receiver Operating Characteristic Curve')\n",
    "plt.xlabel('tt Positive (%)')\n",
    "plt.ylabel('Z Positive (%)')\n",
    "for jThreshold in range(0,5):\n",
    "    plt.annotate(str(jThreshold)+\" fatjet\", (ROC[jThreshold,0], ROC[jThreshold,1]))\n",
    "plt.show()"
   ]
  },
  {
   "cell_type": "code",
   "execution_count": null,
   "metadata": {
    "collapsed": false
   },
   "outputs": [],
   "source": [
    "Area_under_curve = np.trapz(ROC[:,1][::-1], ROC[:,0][::-1])/10000\n",
    "# [::-1] flips np.ndarray\n",
    "# divide by 10000 to go from %\n",
    "print(Area_under_curve)"
   ]
  },
  {
   "cell_type": "code",
   "execution_count": null,
   "metadata": {
    "collapsed": false
   },
   "outputs": [],
   "source": [
    "for jThreshold in range(0,5):\n",
    "    print(str(jThreshold)+\" fatjet event is \"+str(ROC[jThreshold,0])+\"% positive for tt, \"+str(ROC[jThreshold,1])+\"% positive for Z\")"
   ]
  },
  {
   "cell_type": "code",
   "execution_count": 11,
   "metadata": {
    "collapsed": false
   },
   "outputs": [
    {
     "data": {
      "image/png": "[encoded data removed]",
      "text/plain": [
       "<Figure size 432x288 with 1 Axes>"
      ]
     },
     "metadata": {},
     "output_type": "display_data"
    }
   ],
   "source": [
    "import numpy as np\n",
    "plt.hist(np.concatenate(arr_tt['fatjet_m']))\n",
    "plt.show()"
   ]
  }
 ],
 "metadata": {
  "kernelspec": {
   "display_name": "Python 2",
   "language": "python",
   "name": "python2"
  },
  "language_info": {
   "codemirror_mode": {
    "name": "ipython",
    "version": 2
   },
   "file_extension": ".py",
   "mimetype": "text/x-python",
   "name": "python",
   "nbconvert_exporter": "python",
   "pygments_lexer": "ipython2",
   "version": "2.7.9"
  }
 },
 "nbformat": 4,
 "nbformat_minor": 1
}
